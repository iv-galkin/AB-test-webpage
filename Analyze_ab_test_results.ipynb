{
  "cells": [
    {
      "cell_type": "markdown",
      "metadata": {
        "id": "J8iEQb48fhT9"
      },
      "source": [
        "# Анализ результатов A/B теста\n",
        "\n",
        "\n",
        "## Содержание\n",
        "- [Введение](#intro)\n",
        "- [Анализ датасета, сравнение конверсий в группах А и B](#probability)\n",
        "- [A/B тест](#ab_test)\n",
        "- [Выводы](#conclusion)\n",
        "\n",
        "\n",
        "<a id='intro'></a>\n",
        "### Введение\n",
        "\n",
        "Для сравнения эффективности старой и новой версии веб-страницы был проведен A/B-тест с применением бутстрэппинга при проверке гипотез. Цель тестирования — определить, стоит ли интернет-магазину перейти на новую страницу, сохранить старую или продлить эксперимент для сбора дополнительных данных и принятия более обоснованного решения."
      ]
    },
    {
      "cell_type": "markdown",
      "source": [
        "<a id='probability'></a>\n",
        "## Анализ датасета, сравнение конверсий в группах А и B"
      ],
      "metadata": {
        "id": "bGl3wuoNhlTr"
      }
    },
    {
      "cell_type": "code",
      "execution_count": null,
      "metadata": {
        "id": "Yxb6xmXcfhT_"
      },
      "outputs": [],
      "source": [
        "import pandas as pd\n",
        "import numpy as np\n",
        "import random\n",
        "import matplotlib.pyplot as plt\n",
        "%matplotlib inline\n",
        "random.seed(42)"
      ]
    },
    {
      "cell_type": "markdown",
      "metadata": {
        "id": "zM0ZdNMlfhUA"
      },
      "source": [
        "Чтение датасета"
      ]
    },
    {
      "cell_type": "code",
      "execution_count": null,
      "metadata": {
        "colab": {
          "base_uri": "https://localhost:8080/",
          "height": 206
        },
        "id": "BEAYOV5MfhUA",
        "outputId": "3e8e07fa-32d8-4f62-fc59-28f4aaf0be81"
      },
      "outputs": [
        {
          "output_type": "execute_result",
          "data": {
            "text/plain": [
              "   user_id                   timestamp      group landing_page  converted\n",
              "0   851104  2017-01-21 22:11:48.556739    control     old_page          0\n",
              "1   804228  2017-01-12 08:01:45.159739    control     old_page          0\n",
              "2   661590  2017-01-11 16:55:06.154213  treatment     new_page          0\n",
              "3   853541  2017-01-08 18:28:03.143765  treatment     new_page          0\n",
              "4   864975  2017-01-21 01:52:26.210827    control     old_page          1"
            ],
            "text/html": [
              "\n",
              "  <div id=\"df-95b4222e-fc90-40b9-bdcc-d94f503bcc53\" class=\"colab-df-container\">\n",
              "    <div>\n",
              "<style scoped>\n",
              "    .dataframe tbody tr th:only-of-type {\n",
              "        vertical-align: middle;\n",
              "    }\n",
              "\n",
              "    .dataframe tbody tr th {\n",
              "        vertical-align: top;\n",
              "    }\n",
              "\n",
              "    .dataframe thead th {\n",
              "        text-align: right;\n",
              "    }\n",
              "</style>\n",
              "<table border=\"1\" class=\"dataframe\">\n",
              "  <thead>\n",
              "    <tr style=\"text-align: right;\">\n",
              "      <th></th>\n",
              "      <th>user_id</th>\n",
              "      <th>timestamp</th>\n",
              "      <th>group</th>\n",
              "      <th>landing_page</th>\n",
              "      <th>converted</th>\n",
              "    </tr>\n",
              "  </thead>\n",
              "  <tbody>\n",
              "    <tr>\n",
              "      <th>0</th>\n",
              "      <td>851104</td>\n",
              "      <td>2017-01-21 22:11:48.556739</td>\n",
              "      <td>control</td>\n",
              "      <td>old_page</td>\n",
              "      <td>0</td>\n",
              "    </tr>\n",
              "    <tr>\n",
              "      <th>1</th>\n",
              "      <td>804228</td>\n",
              "      <td>2017-01-12 08:01:45.159739</td>\n",
              "      <td>control</td>\n",
              "      <td>old_page</td>\n",
              "      <td>0</td>\n",
              "    </tr>\n",
              "    <tr>\n",
              "      <th>2</th>\n",
              "      <td>661590</td>\n",
              "      <td>2017-01-11 16:55:06.154213</td>\n",
              "      <td>treatment</td>\n",
              "      <td>new_page</td>\n",
              "      <td>0</td>\n",
              "    </tr>\n",
              "    <tr>\n",
              "      <th>3</th>\n",
              "      <td>853541</td>\n",
              "      <td>2017-01-08 18:28:03.143765</td>\n",
              "      <td>treatment</td>\n",
              "      <td>new_page</td>\n",
              "      <td>0</td>\n",
              "    </tr>\n",
              "    <tr>\n",
              "      <th>4</th>\n",
              "      <td>864975</td>\n",
              "      <td>2017-01-21 01:52:26.210827</td>\n",
              "      <td>control</td>\n",
              "      <td>old_page</td>\n",
              "      <td>1</td>\n",
              "    </tr>\n",
              "  </tbody>\n",
              "</table>\n",
              "</div>\n",
              "    <div class=\"colab-df-buttons\">\n",
              "\n",
              "  <div class=\"colab-df-container\">\n",
              "    <button class=\"colab-df-convert\" onclick=\"convertToInteractive('df-95b4222e-fc90-40b9-bdcc-d94f503bcc53')\"\n",
              "            title=\"Convert this dataframe to an interactive table.\"\n",
              "            style=\"display:none;\">\n",
              "\n",
              "  <svg xmlns=\"http://www.w3.org/2000/svg\" height=\"24px\" viewBox=\"0 -960 960 960\">\n",
              "    <path d=\"M120-120v-720h720v720H120Zm60-500h600v-160H180v160Zm220 220h160v-160H400v160Zm0 220h160v-160H400v160ZM180-400h160v-160H180v160Zm440 0h160v-160H620v160ZM180-180h160v-160H180v160Zm440 0h160v-160H620v160Z\"/>\n",
              "  </svg>\n",
              "    </button>\n",
              "\n",
              "  <style>\n",
              "    .colab-df-container {\n",
              "      display:flex;\n",
              "      gap: 12px;\n",
              "    }\n",
              "\n",
              "    .colab-df-convert {\n",
              "      background-color: #E8F0FE;\n",
              "      border: none;\n",
              "      border-radius: 50%;\n",
              "      cursor: pointer;\n",
              "      display: none;\n",
              "      fill: #1967D2;\n",
              "      height: 32px;\n",
              "      padding: 0 0 0 0;\n",
              "      width: 32px;\n",
              "    }\n",
              "\n",
              "    .colab-df-convert:hover {\n",
              "      background-color: #E2EBFA;\n",
              "      box-shadow: 0px 1px 2px rgba(60, 64, 67, 0.3), 0px 1px 3px 1px rgba(60, 64, 67, 0.15);\n",
              "      fill: #174EA6;\n",
              "    }\n",
              "\n",
              "    .colab-df-buttons div {\n",
              "      margin-bottom: 4px;\n",
              "    }\n",
              "\n",
              "    [theme=dark] .colab-df-convert {\n",
              "      background-color: #3B4455;\n",
              "      fill: #D2E3FC;\n",
              "    }\n",
              "\n",
              "    [theme=dark] .colab-df-convert:hover {\n",
              "      background-color: #434B5C;\n",
              "      box-shadow: 0px 1px 3px 1px rgba(0, 0, 0, 0.15);\n",
              "      filter: drop-shadow(0px 1px 2px rgba(0, 0, 0, 0.3));\n",
              "      fill: #FFFFFF;\n",
              "    }\n",
              "  </style>\n",
              "\n",
              "    <script>\n",
              "      const buttonEl =\n",
              "        document.querySelector('#df-95b4222e-fc90-40b9-bdcc-d94f503bcc53 button.colab-df-convert');\n",
              "      buttonEl.style.display =\n",
              "        google.colab.kernel.accessAllowed ? 'block' : 'none';\n",
              "\n",
              "      async function convertToInteractive(key) {\n",
              "        const element = document.querySelector('#df-95b4222e-fc90-40b9-bdcc-d94f503bcc53');\n",
              "        const dataTable =\n",
              "          await google.colab.kernel.invokeFunction('convertToInteractive',\n",
              "                                                    [key], {});\n",
              "        if (!dataTable) return;\n",
              "\n",
              "        const docLinkHtml = 'Like what you see? Visit the ' +\n",
              "          '<a target=\"_blank\" href=https://colab.research.google.com/notebooks/data_table.ipynb>data table notebook</a>'\n",
              "          + ' to learn more about interactive tables.';\n",
              "        element.innerHTML = '';\n",
              "        dataTable['output_type'] = 'display_data';\n",
              "        await google.colab.output.renderOutput(dataTable, element);\n",
              "        const docLink = document.createElement('div');\n",
              "        docLink.innerHTML = docLinkHtml;\n",
              "        element.appendChild(docLink);\n",
              "      }\n",
              "    </script>\n",
              "  </div>\n",
              "\n",
              "\n",
              "    <div id=\"df-f2a52867-426f-43e1-a2fa-807df641608c\">\n",
              "      <button class=\"colab-df-quickchart\" onclick=\"quickchart('df-f2a52867-426f-43e1-a2fa-807df641608c')\"\n",
              "                title=\"Suggest charts\"\n",
              "                style=\"display:none;\">\n",
              "\n",
              "<svg xmlns=\"http://www.w3.org/2000/svg\" height=\"24px\"viewBox=\"0 0 24 24\"\n",
              "     width=\"24px\">\n",
              "    <g>\n",
              "        <path d=\"M19 3H5c-1.1 0-2 .9-2 2v14c0 1.1.9 2 2 2h14c1.1 0 2-.9 2-2V5c0-1.1-.9-2-2-2zM9 17H7v-7h2v7zm4 0h-2V7h2v10zm4 0h-2v-4h2v4z\"/>\n",
              "    </g>\n",
              "</svg>\n",
              "      </button>\n",
              "\n",
              "<style>\n",
              "  .colab-df-quickchart {\n",
              "      --bg-color: #E8F0FE;\n",
              "      --fill-color: #1967D2;\n",
              "      --hover-bg-color: #E2EBFA;\n",
              "      --hover-fill-color: #174EA6;\n",
              "      --disabled-fill-color: #AAA;\n",
              "      --disabled-bg-color: #DDD;\n",
              "  }\n",
              "\n",
              "  [theme=dark] .colab-df-quickchart {\n",
              "      --bg-color: #3B4455;\n",
              "      --fill-color: #D2E3FC;\n",
              "      --hover-bg-color: #434B5C;\n",
              "      --hover-fill-color: #FFFFFF;\n",
              "      --disabled-bg-color: #3B4455;\n",
              "      --disabled-fill-color: #666;\n",
              "  }\n",
              "\n",
              "  .colab-df-quickchart {\n",
              "    background-color: var(--bg-color);\n",
              "    border: none;\n",
              "    border-radius: 50%;\n",
              "    cursor: pointer;\n",
              "    display: none;\n",
              "    fill: var(--fill-color);\n",
              "    height: 32px;\n",
              "    padding: 0;\n",
              "    width: 32px;\n",
              "  }\n",
              "\n",
              "  .colab-df-quickchart:hover {\n",
              "    background-color: var(--hover-bg-color);\n",
              "    box-shadow: 0 1px 2px rgba(60, 64, 67, 0.3), 0 1px 3px 1px rgba(60, 64, 67, 0.15);\n",
              "    fill: var(--button-hover-fill-color);\n",
              "  }\n",
              "\n",
              "  .colab-df-quickchart-complete:disabled,\n",
              "  .colab-df-quickchart-complete:disabled:hover {\n",
              "    background-color: var(--disabled-bg-color);\n",
              "    fill: var(--disabled-fill-color);\n",
              "    box-shadow: none;\n",
              "  }\n",
              "\n",
              "  .colab-df-spinner {\n",
              "    border: 2px solid var(--fill-color);\n",
              "    border-color: transparent;\n",
              "    border-bottom-color: var(--fill-color);\n",
              "    animation:\n",
              "      spin 1s steps(1) infinite;\n",
              "  }\n",
              "\n",
              "  @keyframes spin {\n",
              "    0% {\n",
              "      border-color: transparent;\n",
              "      border-bottom-color: var(--fill-color);\n",
              "      border-left-color: var(--fill-color);\n",
              "    }\n",
              "    20% {\n",
              "      border-color: transparent;\n",
              "      border-left-color: var(--fill-color);\n",
              "      border-top-color: var(--fill-color);\n",
              "    }\n",
              "    30% {\n",
              "      border-color: transparent;\n",
              "      border-left-color: var(--fill-color);\n",
              "      border-top-color: var(--fill-color);\n",
              "      border-right-color: var(--fill-color);\n",
              "    }\n",
              "    40% {\n",
              "      border-color: transparent;\n",
              "      border-right-color: var(--fill-color);\n",
              "      border-top-color: var(--fill-color);\n",
              "    }\n",
              "    60% {\n",
              "      border-color: transparent;\n",
              "      border-right-color: var(--fill-color);\n",
              "    }\n",
              "    80% {\n",
              "      border-color: transparent;\n",
              "      border-right-color: var(--fill-color);\n",
              "      border-bottom-color: var(--fill-color);\n",
              "    }\n",
              "    90% {\n",
              "      border-color: transparent;\n",
              "      border-bottom-color: var(--fill-color);\n",
              "    }\n",
              "  }\n",
              "</style>\n",
              "\n",
              "      <script>\n",
              "        async function quickchart(key) {\n",
              "          const quickchartButtonEl =\n",
              "            document.querySelector('#' + key + ' button');\n",
              "          quickchartButtonEl.disabled = true;  // To prevent multiple clicks.\n",
              "          quickchartButtonEl.classList.add('colab-df-spinner');\n",
              "          try {\n",
              "            const charts = await google.colab.kernel.invokeFunction(\n",
              "                'suggestCharts', [key], {});\n",
              "          } catch (error) {\n",
              "            console.error('Error during call to suggestCharts:', error);\n",
              "          }\n",
              "          quickchartButtonEl.classList.remove('colab-df-spinner');\n",
              "          quickchartButtonEl.classList.add('colab-df-quickchart-complete');\n",
              "        }\n",
              "        (() => {\n",
              "          let quickchartButtonEl =\n",
              "            document.querySelector('#df-f2a52867-426f-43e1-a2fa-807df641608c button');\n",
              "          quickchartButtonEl.style.display =\n",
              "            google.colab.kernel.accessAllowed ? 'block' : 'none';\n",
              "        })();\n",
              "      </script>\n",
              "    </div>\n",
              "    </div>\n",
              "  </div>\n"
            ],
            "application/vnd.google.colaboratory.intrinsic+json": {
              "type": "dataframe",
              "variable_name": "df"
            }
          },
          "metadata": {},
          "execution_count": 54
        }
      ],
      "source": [
        "df = pd.read_csv('ab_data.csv')\n",
        "df.head()"
      ]
    },
    {
      "cell_type": "markdown",
      "source": [
        "Исследуем наш датасет"
      ],
      "metadata": {
        "id": "kaNhqhp4lKHu"
      }
    },
    {
      "cell_type": "code",
      "source": [
        "df.info()"
      ],
      "metadata": {
        "colab": {
          "base_uri": "https://localhost:8080/"
        },
        "id": "uSQTWFvgltnZ",
        "outputId": "6cb6fe07-54d7-4e78-85e8-485d2f219218"
      },
      "execution_count": null,
      "outputs": [
        {
          "output_type": "stream",
          "name": "stdout",
          "text": [
            "<class 'pandas.core.frame.DataFrame'>\n",
            "RangeIndex: 294478 entries, 0 to 294477\n",
            "Data columns (total 5 columns):\n",
            " #   Column        Non-Null Count   Dtype \n",
            "---  ------        --------------   ----- \n",
            " 0   user_id       294478 non-null  int64 \n",
            " 1   timestamp     294478 non-null  object\n",
            " 2   group         294478 non-null  object\n",
            " 3   landing_page  294478 non-null  object\n",
            " 4   converted     294478 non-null  int64 \n",
            "dtypes: int64(2), object(3)\n",
            "memory usage: 11.2+ MB\n"
          ]
        }
      ]
    },
    {
      "cell_type": "code",
      "execution_count": null,
      "metadata": {
        "colab": {
          "base_uri": "https://localhost:8080/"
        },
        "id": "iqapfDbwfhUC",
        "outputId": "28faa004-3731-42f2-b210-4084cdb7c0ee"
      },
      "outputs": [
        {
          "output_type": "stream",
          "name": "stdout",
          "text": [
            "Число уникальных пользователей: 290584\n"
          ]
        }
      ],
      "source": [
        "print('Число уникальных пользователей:', len(df['user_id'].unique()))"
      ]
    },
    {
      "cell_type": "code",
      "source": [
        "print(f'Конверсия пользователей: {(len(df[df[\"converted\"] == 1]) / df.shape[0]) * 100:.2f}%')"
      ],
      "metadata": {
        "colab": {
          "base_uri": "https://localhost:8080/"
        },
        "id": "AsHi75wkmOpZ",
        "outputId": "2aeec91f-76a6-454c-a430-a0284db874f2"
      },
      "execution_count": null,
      "outputs": [
        {
          "output_type": "stream",
          "name": "stdout",
          "text": [
            "Конверсия пользователей: 11.97%\n"
          ]
        }
      ]
    },
    {
      "cell_type": "markdown",
      "source": [
        "В корректном A/B-тесте должно быть:\n",
        "\n",
        "`treatment` → `new_page` (новая страница)\n",
        "\n",
        "`control` → `old_page` (старая страница)\n",
        "\n",
        "Однако в датасете могут быть несоответствия и нужно проверить, есть ли они и сколько их."
      ],
      "metadata": {
        "id": "BJ0zknjAlPmJ"
      }
    },
    {
      "cell_type": "code",
      "execution_count": null,
      "metadata": {
        "colab": {
          "base_uri": "https://localhost:8080/"
        },
        "id": "eZkmellYfhUC",
        "outputId": "aa3dc0d8-3e36-420c-a5f8-0bb85b63ac06"
      },
      "outputs": [
        {
          "output_type": "stream",
          "name": "stdout",
          "text": [
            "3893\n"
          ]
        }
      ],
      "source": [
        "print((df.query('group == \"treatment\" & landing_page == \"old_page\"')['user_id'].count()) + (df.query('group == \"control\" & landing_page == \"new_page\"')['user_id'].count()))"
      ]
    },
    {
      "cell_type": "markdown",
      "metadata": {
        "id": "nEhebQumfhUD"
      },
      "source": [
        "На следующем этапе мы очистим данные, удалив строки с некорректным соответствием групп и страниц:\n",
        "\n",
        "Пользователи из treatment-группы, попавшие на old_page\n",
        "\n",
        "Пользователи из control-группы, попавшие на new_page\n",
        "\n",
        "Причина: мы не можем гарантировать, какая версия страницы была показана в этих случаях.\n",
        "\n",
        "Создадим новый датафрейм df2, содержащий только строки, где значения в столбцах landing_page и group согласованы."
      ]
    },
    {
      "cell_type": "code",
      "execution_count": null,
      "metadata": {
        "id": "10nt0eKbfhUD"
      },
      "outputs": [],
      "source": [
        "df2 = df[\n",
        "    ((df['group'] == 'treatment') & (df['landing_page'] == 'new_page')) |\n",
        "    ((df['group'] == 'control') & (df['landing_page'] == 'old_page'))\n",
        "].copy()"
      ]
    },
    {
      "cell_type": "code",
      "execution_count": null,
      "metadata": {
        "id": "uVtkalVAfhUD"
      },
      "outputs": [],
      "source": [
        "assert((df2[((df2['group'] == 'treatment') == (df2['landing_page'] == 'new_page')) == False].shape[0]) + (df2[((df2['group'] == 'control') == (df2['landing_page'] == 'old_page')) == False].shape[0]) == 0)"
      ]
    },
    {
      "cell_type": "code",
      "execution_count": null,
      "metadata": {
        "colab": {
          "base_uri": "https://localhost:8080/"
        },
        "id": "YphiO9LTfhUD",
        "outputId": "a40c0e25-bced-45e0-cd55-3fa1ae9d9f27"
      },
      "outputs": [
        {
          "output_type": "stream",
          "name": "stdout",
          "text": [
            "Число уникальных пользователей: 290584\n"
          ]
        }
      ],
      "source": [
        "print('Число уникальных пользователей:', len(df['user_id'].unique()))"
      ]
    },
    {
      "cell_type": "code",
      "execution_count": null,
      "metadata": {
        "id": "7GQ7kU6DfhUD"
      },
      "outputs": [],
      "source": [
        "# Добавляем булеву колонку для идентификации дубликатов user_id\n",
        "df2['is_duplicated'] = df2.duplicated(subset='user_id', keep=False)  # keep=False помечает все дубли как True\n",
        "\n",
        "# Получаем список всех user_id, которые имеют дубликаты\n",
        "duplicated_user_ids = df2.loc[df2['is_duplicated'], 'user_id'].unique()"
      ]
    },
    {
      "cell_type": "code",
      "execution_count": null,
      "metadata": {
        "colab": {
          "base_uri": "https://localhost:8080/",
          "height": 112
        },
        "id": "8rQZeKAOfhUE",
        "outputId": "03d06d2b-c742-4d9d-ebaf-e73fb7ffb72b"
      },
      "outputs": [
        {
          "output_type": "execute_result",
          "data": {
            "text/plain": [
              "      user_id                   timestamp      group landing_page  converted  \\\n",
              "1899   773192  2017-01-09 05:37:58.781806  treatment     new_page          0   \n",
              "2893   773192  2017-01-14 02:55:59.590927  treatment     new_page          0   \n",
              "\n",
              "      is_duplicated  \n",
              "1899           True  \n",
              "2893           True  "
            ],
            "text/html": [
              "\n",
              "  <div id=\"df-c8785d7b-fa8b-4617-b692-a0f4163296cc\" class=\"colab-df-container\">\n",
              "    <div>\n",
              "<style scoped>\n",
              "    .dataframe tbody tr th:only-of-type {\n",
              "        vertical-align: middle;\n",
              "    }\n",
              "\n",
              "    .dataframe tbody tr th {\n",
              "        vertical-align: top;\n",
              "    }\n",
              "\n",
              "    .dataframe thead th {\n",
              "        text-align: right;\n",
              "    }\n",
              "</style>\n",
              "<table border=\"1\" class=\"dataframe\">\n",
              "  <thead>\n",
              "    <tr style=\"text-align: right;\">\n",
              "      <th></th>\n",
              "      <th>user_id</th>\n",
              "      <th>timestamp</th>\n",
              "      <th>group</th>\n",
              "      <th>landing_page</th>\n",
              "      <th>converted</th>\n",
              "      <th>is_duplicated</th>\n",
              "    </tr>\n",
              "  </thead>\n",
              "  <tbody>\n",
              "    <tr>\n",
              "      <th>1899</th>\n",
              "      <td>773192</td>\n",
              "      <td>2017-01-09 05:37:58.781806</td>\n",
              "      <td>treatment</td>\n",
              "      <td>new_page</td>\n",
              "      <td>0</td>\n",
              "      <td>True</td>\n",
              "    </tr>\n",
              "    <tr>\n",
              "      <th>2893</th>\n",
              "      <td>773192</td>\n",
              "      <td>2017-01-14 02:55:59.590927</td>\n",
              "      <td>treatment</td>\n",
              "      <td>new_page</td>\n",
              "      <td>0</td>\n",
              "      <td>True</td>\n",
              "    </tr>\n",
              "  </tbody>\n",
              "</table>\n",
              "</div>\n",
              "    <div class=\"colab-df-buttons\">\n",
              "\n",
              "  <div class=\"colab-df-container\">\n",
              "    <button class=\"colab-df-convert\" onclick=\"convertToInteractive('df-c8785d7b-fa8b-4617-b692-a0f4163296cc')\"\n",
              "            title=\"Convert this dataframe to an interactive table.\"\n",
              "            style=\"display:none;\">\n",
              "\n",
              "  <svg xmlns=\"http://www.w3.org/2000/svg\" height=\"24px\" viewBox=\"0 -960 960 960\">\n",
              "    <path d=\"M120-120v-720h720v720H120Zm60-500h600v-160H180v160Zm220 220h160v-160H400v160Zm0 220h160v-160H400v160ZM180-400h160v-160H180v160Zm440 0h160v-160H620v160ZM180-180h160v-160H180v160Zm440 0h160v-160H620v160Z\"/>\n",
              "  </svg>\n",
              "    </button>\n",
              "\n",
              "  <style>\n",
              "    .colab-df-container {\n",
              "      display:flex;\n",
              "      gap: 12px;\n",
              "    }\n",
              "\n",
              "    .colab-df-convert {\n",
              "      background-color: #E8F0FE;\n",
              "      border: none;\n",
              "      border-radius: 50%;\n",
              "      cursor: pointer;\n",
              "      display: none;\n",
              "      fill: #1967D2;\n",
              "      height: 32px;\n",
              "      padding: 0 0 0 0;\n",
              "      width: 32px;\n",
              "    }\n",
              "\n",
              "    .colab-df-convert:hover {\n",
              "      background-color: #E2EBFA;\n",
              "      box-shadow: 0px 1px 2px rgba(60, 64, 67, 0.3), 0px 1px 3px 1px rgba(60, 64, 67, 0.15);\n",
              "      fill: #174EA6;\n",
              "    }\n",
              "\n",
              "    .colab-df-buttons div {\n",
              "      margin-bottom: 4px;\n",
              "    }\n",
              "\n",
              "    [theme=dark] .colab-df-convert {\n",
              "      background-color: #3B4455;\n",
              "      fill: #D2E3FC;\n",
              "    }\n",
              "\n",
              "    [theme=dark] .colab-df-convert:hover {\n",
              "      background-color: #434B5C;\n",
              "      box-shadow: 0px 1px 3px 1px rgba(0, 0, 0, 0.15);\n",
              "      filter: drop-shadow(0px 1px 2px rgba(0, 0, 0, 0.3));\n",
              "      fill: #FFFFFF;\n",
              "    }\n",
              "  </style>\n",
              "\n",
              "    <script>\n",
              "      const buttonEl =\n",
              "        document.querySelector('#df-c8785d7b-fa8b-4617-b692-a0f4163296cc button.colab-df-convert');\n",
              "      buttonEl.style.display =\n",
              "        google.colab.kernel.accessAllowed ? 'block' : 'none';\n",
              "\n",
              "      async function convertToInteractive(key) {\n",
              "        const element = document.querySelector('#df-c8785d7b-fa8b-4617-b692-a0f4163296cc');\n",
              "        const dataTable =\n",
              "          await google.colab.kernel.invokeFunction('convertToInteractive',\n",
              "                                                    [key], {});\n",
              "        if (!dataTable) return;\n",
              "\n",
              "        const docLinkHtml = 'Like what you see? Visit the ' +\n",
              "          '<a target=\"_blank\" href=https://colab.research.google.com/notebooks/data_table.ipynb>data table notebook</a>'\n",
              "          + ' to learn more about interactive tables.';\n",
              "        element.innerHTML = '';\n",
              "        dataTable['output_type'] = 'display_data';\n",
              "        await google.colab.output.renderOutput(dataTable, element);\n",
              "        const docLink = document.createElement('div');\n",
              "        docLink.innerHTML = docLinkHtml;\n",
              "        element.appendChild(docLink);\n",
              "      }\n",
              "    </script>\n",
              "  </div>\n",
              "\n",
              "\n",
              "    <div id=\"df-826e5eb3-d2cc-4c6a-a5c6-345202ce7dc9\">\n",
              "      <button class=\"colab-df-quickchart\" onclick=\"quickchart('df-826e5eb3-d2cc-4c6a-a5c6-345202ce7dc9')\"\n",
              "                title=\"Suggest charts\"\n",
              "                style=\"display:none;\">\n",
              "\n",
              "<svg xmlns=\"http://www.w3.org/2000/svg\" height=\"24px\"viewBox=\"0 0 24 24\"\n",
              "     width=\"24px\">\n",
              "    <g>\n",
              "        <path d=\"M19 3H5c-1.1 0-2 .9-2 2v14c0 1.1.9 2 2 2h14c1.1 0 2-.9 2-2V5c0-1.1-.9-2-2-2zM9 17H7v-7h2v7zm4 0h-2V7h2v10zm4 0h-2v-4h2v4z\"/>\n",
              "    </g>\n",
              "</svg>\n",
              "      </button>\n",
              "\n",
              "<style>\n",
              "  .colab-df-quickchart {\n",
              "      --bg-color: #E8F0FE;\n",
              "      --fill-color: #1967D2;\n",
              "      --hover-bg-color: #E2EBFA;\n",
              "      --hover-fill-color: #174EA6;\n",
              "      --disabled-fill-color: #AAA;\n",
              "      --disabled-bg-color: #DDD;\n",
              "  }\n",
              "\n",
              "  [theme=dark] .colab-df-quickchart {\n",
              "      --bg-color: #3B4455;\n",
              "      --fill-color: #D2E3FC;\n",
              "      --hover-bg-color: #434B5C;\n",
              "      --hover-fill-color: #FFFFFF;\n",
              "      --disabled-bg-color: #3B4455;\n",
              "      --disabled-fill-color: #666;\n",
              "  }\n",
              "\n",
              "  .colab-df-quickchart {\n",
              "    background-color: var(--bg-color);\n",
              "    border: none;\n",
              "    border-radius: 50%;\n",
              "    cursor: pointer;\n",
              "    display: none;\n",
              "    fill: var(--fill-color);\n",
              "    height: 32px;\n",
              "    padding: 0;\n",
              "    width: 32px;\n",
              "  }\n",
              "\n",
              "  .colab-df-quickchart:hover {\n",
              "    background-color: var(--hover-bg-color);\n",
              "    box-shadow: 0 1px 2px rgba(60, 64, 67, 0.3), 0 1px 3px 1px rgba(60, 64, 67, 0.15);\n",
              "    fill: var(--button-hover-fill-color);\n",
              "  }\n",
              "\n",
              "  .colab-df-quickchart-complete:disabled,\n",
              "  .colab-df-quickchart-complete:disabled:hover {\n",
              "    background-color: var(--disabled-bg-color);\n",
              "    fill: var(--disabled-fill-color);\n",
              "    box-shadow: none;\n",
              "  }\n",
              "\n",
              "  .colab-df-spinner {\n",
              "    border: 2px solid var(--fill-color);\n",
              "    border-color: transparent;\n",
              "    border-bottom-color: var(--fill-color);\n",
              "    animation:\n",
              "      spin 1s steps(1) infinite;\n",
              "  }\n",
              "\n",
              "  @keyframes spin {\n",
              "    0% {\n",
              "      border-color: transparent;\n",
              "      border-bottom-color: var(--fill-color);\n",
              "      border-left-color: var(--fill-color);\n",
              "    }\n",
              "    20% {\n",
              "      border-color: transparent;\n",
              "      border-left-color: var(--fill-color);\n",
              "      border-top-color: var(--fill-color);\n",
              "    }\n",
              "    30% {\n",
              "      border-color: transparent;\n",
              "      border-left-color: var(--fill-color);\n",
              "      border-top-color: var(--fill-color);\n",
              "      border-right-color: var(--fill-color);\n",
              "    }\n",
              "    40% {\n",
              "      border-color: transparent;\n",
              "      border-right-color: var(--fill-color);\n",
              "      border-top-color: var(--fill-color);\n",
              "    }\n",
              "    60% {\n",
              "      border-color: transparent;\n",
              "      border-right-color: var(--fill-color);\n",
              "    }\n",
              "    80% {\n",
              "      border-color: transparent;\n",
              "      border-right-color: var(--fill-color);\n",
              "      border-bottom-color: var(--fill-color);\n",
              "    }\n",
              "    90% {\n",
              "      border-color: transparent;\n",
              "      border-bottom-color: var(--fill-color);\n",
              "    }\n",
              "  }\n",
              "</style>\n",
              "\n",
              "      <script>\n",
              "        async function quickchart(key) {\n",
              "          const quickchartButtonEl =\n",
              "            document.querySelector('#' + key + ' button');\n",
              "          quickchartButtonEl.disabled = true;  // To prevent multiple clicks.\n",
              "          quickchartButtonEl.classList.add('colab-df-spinner');\n",
              "          try {\n",
              "            const charts = await google.colab.kernel.invokeFunction(\n",
              "                'suggestCharts', [key], {});\n",
              "          } catch (error) {\n",
              "            console.error('Error during call to suggestCharts:', error);\n",
              "          }\n",
              "          quickchartButtonEl.classList.remove('colab-df-spinner');\n",
              "          quickchartButtonEl.classList.add('colab-df-quickchart-complete');\n",
              "        }\n",
              "        (() => {\n",
              "          let quickchartButtonEl =\n",
              "            document.querySelector('#df-826e5eb3-d2cc-4c6a-a5c6-345202ce7dc9 button');\n",
              "          quickchartButtonEl.style.display =\n",
              "            google.colab.kernel.accessAllowed ? 'block' : 'none';\n",
              "        })();\n",
              "      </script>\n",
              "    </div>\n",
              "    </div>\n",
              "  </div>\n"
            ],
            "application/vnd.google.colaboratory.intrinsic+json": {
              "type": "dataframe",
              "repr_error": "0"
            }
          },
          "metadata": {},
          "execution_count": 63
        }
      ],
      "source": [
        "df2.query('is_duplicated')"
      ]
    },
    {
      "cell_type": "code",
      "execution_count": null,
      "metadata": {
        "colab": {
          "base_uri": "https://localhost:8080/",
          "height": 80
        },
        "id": "959j-PiHfhUE",
        "outputId": "1398b791-15b1-48b4-f034-e3b62956f434"
      },
      "outputs": [
        {
          "output_type": "execute_result",
          "data": {
            "text/plain": [
              "      user_id                   timestamp      group landing_page  converted  \\\n",
              "1899   773192  2017-01-09 05:37:58.781806  treatment     new_page          0   \n",
              "\n",
              "      is_duplicated  \n",
              "1899           True  "
            ],
            "text/html": [
              "\n",
              "  <div id=\"df-4b14f628-22d0-4103-a048-cb1a45b571c0\" class=\"colab-df-container\">\n",
              "    <div>\n",
              "<style scoped>\n",
              "    .dataframe tbody tr th:only-of-type {\n",
              "        vertical-align: middle;\n",
              "    }\n",
              "\n",
              "    .dataframe tbody tr th {\n",
              "        vertical-align: top;\n",
              "    }\n",
              "\n",
              "    .dataframe thead th {\n",
              "        text-align: right;\n",
              "    }\n",
              "</style>\n",
              "<table border=\"1\" class=\"dataframe\">\n",
              "  <thead>\n",
              "    <tr style=\"text-align: right;\">\n",
              "      <th></th>\n",
              "      <th>user_id</th>\n",
              "      <th>timestamp</th>\n",
              "      <th>group</th>\n",
              "      <th>landing_page</th>\n",
              "      <th>converted</th>\n",
              "      <th>is_duplicated</th>\n",
              "    </tr>\n",
              "  </thead>\n",
              "  <tbody>\n",
              "    <tr>\n",
              "      <th>1899</th>\n",
              "      <td>773192</td>\n",
              "      <td>2017-01-09 05:37:58.781806</td>\n",
              "      <td>treatment</td>\n",
              "      <td>new_page</td>\n",
              "      <td>0</td>\n",
              "      <td>True</td>\n",
              "    </tr>\n",
              "  </tbody>\n",
              "</table>\n",
              "</div>\n",
              "    <div class=\"colab-df-buttons\">\n",
              "\n",
              "  <div class=\"colab-df-container\">\n",
              "    <button class=\"colab-df-convert\" onclick=\"convertToInteractive('df-4b14f628-22d0-4103-a048-cb1a45b571c0')\"\n",
              "            title=\"Convert this dataframe to an interactive table.\"\n",
              "            style=\"display:none;\">\n",
              "\n",
              "  <svg xmlns=\"http://www.w3.org/2000/svg\" height=\"24px\" viewBox=\"0 -960 960 960\">\n",
              "    <path d=\"M120-120v-720h720v720H120Zm60-500h600v-160H180v160Zm220 220h160v-160H400v160Zm0 220h160v-160H400v160ZM180-400h160v-160H180v160Zm440 0h160v-160H620v160ZM180-180h160v-160H180v160Zm440 0h160v-160H620v160Z\"/>\n",
              "  </svg>\n",
              "    </button>\n",
              "\n",
              "  <style>\n",
              "    .colab-df-container {\n",
              "      display:flex;\n",
              "      gap: 12px;\n",
              "    }\n",
              "\n",
              "    .colab-df-convert {\n",
              "      background-color: #E8F0FE;\n",
              "      border: none;\n",
              "      border-radius: 50%;\n",
              "      cursor: pointer;\n",
              "      display: none;\n",
              "      fill: #1967D2;\n",
              "      height: 32px;\n",
              "      padding: 0 0 0 0;\n",
              "      width: 32px;\n",
              "    }\n",
              "\n",
              "    .colab-df-convert:hover {\n",
              "      background-color: #E2EBFA;\n",
              "      box-shadow: 0px 1px 2px rgba(60, 64, 67, 0.3), 0px 1px 3px 1px rgba(60, 64, 67, 0.15);\n",
              "      fill: #174EA6;\n",
              "    }\n",
              "\n",
              "    .colab-df-buttons div {\n",
              "      margin-bottom: 4px;\n",
              "    }\n",
              "\n",
              "    [theme=dark] .colab-df-convert {\n",
              "      background-color: #3B4455;\n",
              "      fill: #D2E3FC;\n",
              "    }\n",
              "\n",
              "    [theme=dark] .colab-df-convert:hover {\n",
              "      background-color: #434B5C;\n",
              "      box-shadow: 0px 1px 3px 1px rgba(0, 0, 0, 0.15);\n",
              "      filter: drop-shadow(0px 1px 2px rgba(0, 0, 0, 0.3));\n",
              "      fill: #FFFFFF;\n",
              "    }\n",
              "  </style>\n",
              "\n",
              "    <script>\n",
              "      const buttonEl =\n",
              "        document.querySelector('#df-4b14f628-22d0-4103-a048-cb1a45b571c0 button.colab-df-convert');\n",
              "      buttonEl.style.display =\n",
              "        google.colab.kernel.accessAllowed ? 'block' : 'none';\n",
              "\n",
              "      async function convertToInteractive(key) {\n",
              "        const element = document.querySelector('#df-4b14f628-22d0-4103-a048-cb1a45b571c0');\n",
              "        const dataTable =\n",
              "          await google.colab.kernel.invokeFunction('convertToInteractive',\n",
              "                                                    [key], {});\n",
              "        if (!dataTable) return;\n",
              "\n",
              "        const docLinkHtml = 'Like what you see? Visit the ' +\n",
              "          '<a target=\"_blank\" href=https://colab.research.google.com/notebooks/data_table.ipynb>data table notebook</a>'\n",
              "          + ' to learn more about interactive tables.';\n",
              "        element.innerHTML = '';\n",
              "        dataTable['output_type'] = 'display_data';\n",
              "        await google.colab.output.renderOutput(dataTable, element);\n",
              "        const docLink = document.createElement('div');\n",
              "        docLink.innerHTML = docLinkHtml;\n",
              "        element.appendChild(docLink);\n",
              "      }\n",
              "    </script>\n",
              "  </div>\n",
              "\n",
              "    </div>\n",
              "  </div>\n"
            ],
            "application/vnd.google.colaboratory.intrinsic+json": {
              "type": "dataframe",
              "repr_error": "0"
            }
          },
          "metadata": {},
          "execution_count": 64
        }
      ],
      "source": [
        "df2.drop_duplicates(subset=['user_id'], keep='first', inplace=True)\n",
        "df2.query('user_id == 773192')"
      ]
    },
    {
      "cell_type": "code",
      "execution_count": null,
      "metadata": {
        "id": "wvHH3qYmfhUE"
      },
      "outputs": [],
      "source": [
        "# удаляем 'is_duplicated' колонку, она нам больше не нужна\n",
        "df2.drop('is_duplicated', axis=1, inplace=True)"
      ]
    },
    {
      "cell_type": "code",
      "execution_count": null,
      "metadata": {
        "colab": {
          "base_uri": "https://localhost:8080/",
          "height": 80
        },
        "id": "t8S4zBmWfhUE",
        "outputId": "cda95d41-5090-4f01-e813-b94542b3b3bf"
      },
      "outputs": [
        {
          "output_type": "execute_result",
          "data": {
            "text/plain": [
              "   user_id                   timestamp    group landing_page  converted\n",
              "0   851104  2017-01-21 22:11:48.556739  control     old_page          0"
            ],
            "text/html": [
              "\n",
              "  <div id=\"df-c4d764a2-d117-479f-b1c9-bcf326fdc747\" class=\"colab-df-container\">\n",
              "    <div>\n",
              "<style scoped>\n",
              "    .dataframe tbody tr th:only-of-type {\n",
              "        vertical-align: middle;\n",
              "    }\n",
              "\n",
              "    .dataframe tbody tr th {\n",
              "        vertical-align: top;\n",
              "    }\n",
              "\n",
              "    .dataframe thead th {\n",
              "        text-align: right;\n",
              "    }\n",
              "</style>\n",
              "<table border=\"1\" class=\"dataframe\">\n",
              "  <thead>\n",
              "    <tr style=\"text-align: right;\">\n",
              "      <th></th>\n",
              "      <th>user_id</th>\n",
              "      <th>timestamp</th>\n",
              "      <th>group</th>\n",
              "      <th>landing_page</th>\n",
              "      <th>converted</th>\n",
              "    </tr>\n",
              "  </thead>\n",
              "  <tbody>\n",
              "    <tr>\n",
              "      <th>0</th>\n",
              "      <td>851104</td>\n",
              "      <td>2017-01-21 22:11:48.556739</td>\n",
              "      <td>control</td>\n",
              "      <td>old_page</td>\n",
              "      <td>0</td>\n",
              "    </tr>\n",
              "  </tbody>\n",
              "</table>\n",
              "</div>\n",
              "    <div class=\"colab-df-buttons\">\n",
              "\n",
              "  <div class=\"colab-df-container\">\n",
              "    <button class=\"colab-df-convert\" onclick=\"convertToInteractive('df-c4d764a2-d117-479f-b1c9-bcf326fdc747')\"\n",
              "            title=\"Convert this dataframe to an interactive table.\"\n",
              "            style=\"display:none;\">\n",
              "\n",
              "  <svg xmlns=\"http://www.w3.org/2000/svg\" height=\"24px\" viewBox=\"0 -960 960 960\">\n",
              "    <path d=\"M120-120v-720h720v720H120Zm60-500h600v-160H180v160Zm220 220h160v-160H400v160Zm0 220h160v-160H400v160ZM180-400h160v-160H180v160Zm440 0h160v-160H620v160ZM180-180h160v-160H180v160Zm440 0h160v-160H620v160Z\"/>\n",
              "  </svg>\n",
              "    </button>\n",
              "\n",
              "  <style>\n",
              "    .colab-df-container {\n",
              "      display:flex;\n",
              "      gap: 12px;\n",
              "    }\n",
              "\n",
              "    .colab-df-convert {\n",
              "      background-color: #E8F0FE;\n",
              "      border: none;\n",
              "      border-radius: 50%;\n",
              "      cursor: pointer;\n",
              "      display: none;\n",
              "      fill: #1967D2;\n",
              "      height: 32px;\n",
              "      padding: 0 0 0 0;\n",
              "      width: 32px;\n",
              "    }\n",
              "\n",
              "    .colab-df-convert:hover {\n",
              "      background-color: #E2EBFA;\n",
              "      box-shadow: 0px 1px 2px rgba(60, 64, 67, 0.3), 0px 1px 3px 1px rgba(60, 64, 67, 0.15);\n",
              "      fill: #174EA6;\n",
              "    }\n",
              "\n",
              "    .colab-df-buttons div {\n",
              "      margin-bottom: 4px;\n",
              "    }\n",
              "\n",
              "    [theme=dark] .colab-df-convert {\n",
              "      background-color: #3B4455;\n",
              "      fill: #D2E3FC;\n",
              "    }\n",
              "\n",
              "    [theme=dark] .colab-df-convert:hover {\n",
              "      background-color: #434B5C;\n",
              "      box-shadow: 0px 1px 3px 1px rgba(0, 0, 0, 0.15);\n",
              "      filter: drop-shadow(0px 1px 2px rgba(0, 0, 0, 0.3));\n",
              "      fill: #FFFFFF;\n",
              "    }\n",
              "  </style>\n",
              "\n",
              "    <script>\n",
              "      const buttonEl =\n",
              "        document.querySelector('#df-c4d764a2-d117-479f-b1c9-bcf326fdc747 button.colab-df-convert');\n",
              "      buttonEl.style.display =\n",
              "        google.colab.kernel.accessAllowed ? 'block' : 'none';\n",
              "\n",
              "      async function convertToInteractive(key) {\n",
              "        const element = document.querySelector('#df-c4d764a2-d117-479f-b1c9-bcf326fdc747');\n",
              "        const dataTable =\n",
              "          await google.colab.kernel.invokeFunction('convertToInteractive',\n",
              "                                                    [key], {});\n",
              "        if (!dataTable) return;\n",
              "\n",
              "        const docLinkHtml = 'Like what you see? Visit the ' +\n",
              "          '<a target=\"_blank\" href=https://colab.research.google.com/notebooks/data_table.ipynb>data table notebook</a>'\n",
              "          + ' to learn more about interactive tables.';\n",
              "        element.innerHTML = '';\n",
              "        dataTable['output_type'] = 'display_data';\n",
              "        await google.colab.output.renderOutput(dataTable, element);\n",
              "        const docLink = document.createElement('div');\n",
              "        docLink.innerHTML = docLinkHtml;\n",
              "        element.appendChild(docLink);\n",
              "      }\n",
              "    </script>\n",
              "  </div>\n",
              "\n",
              "    </div>\n",
              "  </div>\n"
            ],
            "application/vnd.google.colaboratory.intrinsic+json": {
              "type": "dataframe",
              "variable_name": "df2"
            }
          },
          "metadata": {},
          "execution_count": 66
        }
      ],
      "source": [
        "df2.head(1)"
      ]
    },
    {
      "cell_type": "code",
      "execution_count": null,
      "metadata": {
        "colab": {
          "base_uri": "https://localhost:8080/"
        },
        "id": "ZduToZLRfhUF",
        "outputId": "44d004de-8955-45fe-88ed-c720398b8e53"
      },
      "outputs": [
        {
          "output_type": "stream",
          "name": "stdout",
          "text": [
            "Конверсия пользователей: 11.96%\n"
          ]
        }
      ],
      "source": [
        "print(f'Конверсия пользователей: {(len(df2[df2[\"converted\"] == 1]) / df2.shape[0]) * 100:.2f}%')"
      ]
    },
    {
      "cell_type": "code",
      "execution_count": 125,
      "metadata": {
        "id": "96LlgcC7fhUF"
      },
      "outputs": [],
      "source": [
        "res_old = (df2.query('group == \"control\"')['converted']).mean()"
      ]
    },
    {
      "cell_type": "code",
      "source": [
        "print(f'Конверсия пользователей, получивших контрольную страницу: {res_old * 100:.2f}%')"
      ],
      "metadata": {
        "colab": {
          "base_uri": "https://localhost:8080/"
        },
        "id": "Lq0Ls6A9p1Ra",
        "outputId": "9ea29eaa-22bb-4944-b735-6672c12f52ea"
      },
      "execution_count": 126,
      "outputs": [
        {
          "output_type": "stream",
          "name": "stdout",
          "text": [
            "Конверсия пользователей, получивших контрольную страницу: 12.04%\n"
          ]
        }
      ]
    },
    {
      "cell_type": "code",
      "source": [
        "res_new = (df2.query('group == \"treatment\"')['converted']).mean()"
      ],
      "metadata": {
        "id": "8XI2XGA3qH5g"
      },
      "execution_count": 127,
      "outputs": []
    },
    {
      "cell_type": "code",
      "execution_count": 128,
      "metadata": {
        "colab": {
          "base_uri": "https://localhost:8080/"
        },
        "id": "Uq18pGzjfhUF",
        "outputId": "d894dd56-f9a0-471e-9a81-ea703c2b36f8"
      },
      "outputs": [
        {
          "output_type": "stream",
          "name": "stdout",
          "text": [
            "Конверсия пользователей, получивших экспериментальную страницу: 11.88%\n"
          ]
        }
      ],
      "source": [
        "print(f'Конверсия пользователей, получивших экспериментальную страницу: {res_new * 100:.2f}%')"
      ]
    },
    {
      "cell_type": "code",
      "execution_count": null,
      "metadata": {
        "id": "tYLB0xxDfhUF"
      },
      "outputs": [],
      "source": [
        "new_prob = df2.query('landing_page == \"new_page\"')['landing_page'].count() / df2.shape[0]"
      ]
    },
    {
      "cell_type": "code",
      "source": [
        "print(f'Вероятность получить новую страницу: {new_prob * 100:.3f}')"
      ],
      "metadata": {
        "colab": {
          "base_uri": "https://localhost:8080/"
        },
        "id": "a_dIa6BAq5KJ",
        "outputId": "800a6cf5-84e1-41b5-e021-0ff803e428fd"
      },
      "execution_count": null,
      "outputs": [
        {
          "output_type": "stream",
          "name": "stdout",
          "text": [
            "Вероятность получить новую страницу: 50.006\n"
          ]
        }
      ]
    },
    {
      "cell_type": "markdown",
      "metadata": {
        "id": "v7HBumA4fhUF"
      },
      "source": [
        "### Итог"
      ]
    },
    {
      "cell_type": "markdown",
      "metadata": {
        "id": "dNWURu1wfhUG"
      },
      "source": [
        "- **Вероятность конверсии для пользователей из экспериментальной группы (treatment): 0.118807**\n",
        "- **Вероятность конверсии для пользователей из контрольной группы (control): 0.120386**\n",
        "\n",
        "#### Согласно полученным результатам:\n",
        "- Старая страница показала **чуть лучший** результат, но разница крайне незначительна\n",
        "- Из-за почти одинаковой эффективности обеих версий мы **не можем утверждать**, что одна страница достоверно приводит к большему числу конверсий\n",
        "\n",
        "#### Вывод:\n",
        "Нет статистических доказательств, что какая-либо страница (новая или старая) обеспечивает более высокую конверсию, так как вероятности конверсии в обеих группах практически равны."
      ]
    },
    {
      "cell_type": "markdown",
      "metadata": {
        "id": "rEA3bmCEfhUG"
      },
      "source": [
        "<a id='ab_test'></a>\n",
        "## A/B тест\n",
        "\n",
        "Нулевая и первая гипотезы следующие:"
      ]
    },
    {
      "cell_type": "markdown",
      "metadata": {
        "id": "WxJ1BOgffhUG"
      },
      "source": [
        "\n",
        "$$H_0: p_{new} = p_{old}$$\n",
        "\n",
        "$$H_1: p_{new} > p_{old}$$\n"
      ]
    },
    {
      "cell_type": "code",
      "source": [
        "conv_new = (df2.query('group == \"treatment\"')['converted']).sum()\n",
        "print('conv_new =', conv_new)"
      ],
      "metadata": {
        "colab": {
          "base_uri": "https://localhost:8080/"
        },
        "id": "xjvAGvS4Kkjr",
        "outputId": "c7e748eb-48d3-4669-bde1-cd925642763d"
      },
      "execution_count": 129,
      "outputs": [
        {
          "output_type": "stream",
          "name": "stdout",
          "text": [
            "conv_new = 17264\n"
          ]
        }
      ]
    },
    {
      "cell_type": "code",
      "source": [
        "conv_old = (df2.query('group == \"control\"')['converted']).sum()\n",
        "print('conv_old =', conv_old)"
      ],
      "metadata": {
        "colab": {
          "base_uri": "https://localhost:8080/"
        },
        "id": "x0DMMYG7Kqny",
        "outputId": "40cfb6cd-0c84-46fd-8386-71010f92c3d5"
      },
      "execution_count": 130,
      "outputs": [
        {
          "output_type": "stream",
          "name": "stdout",
          "text": [
            "conv_old = 17489\n"
          ]
        }
      ]
    },
    {
      "cell_type": "code",
      "execution_count": 131,
      "metadata": {
        "colab": {
          "base_uri": "https://localhost:8080/"
        },
        "id": "70fiqbEofhUH",
        "outputId": "14959266-784c-4d7c-bf3d-d1d5b7a376b0"
      },
      "outputs": [
        {
          "output_type": "stream",
          "name": "stdout",
          "text": [
            "n_new = 145310\n"
          ]
        }
      ],
      "source": [
        "n_new = len(df2.query('landing_page == \"new_page\"'))\n",
        "print('n_new =', n_new)"
      ]
    },
    {
      "cell_type": "code",
      "execution_count": 132,
      "metadata": {
        "colab": {
          "base_uri": "https://localhost:8080/"
        },
        "id": "w4acDp26fhUH",
        "outputId": "6f329f0c-5f60-448b-b812-24b77a733488"
      },
      "outputs": [
        {
          "output_type": "stream",
          "name": "stdout",
          "text": [
            "n_old = 145274\n"
          ]
        }
      ],
      "source": [
        "n_old = len(df2.query('landing_page == \"old_page\"'))\n",
        "print('n_old =', n_old)"
      ]
    },
    {
      "cell_type": "markdown",
      "source": [
        "\n",
        "#### Формулы Z-теста для разности пропорций\n",
        "\n",
        "1. Объединённая (pooled) пропорция под $H_0$:\n",
        "\n",
        "   $$\n",
        "   \\hat p\n",
        "   \\;=\\;\n",
        "   \\frac{\\text{conv_new} \\;+\\; \\text{conv_old}}{\\,n_\\text{new} \\;+\\; n_\\text{old}\\,}\n",
        "   $$\n",
        "\n",
        "2. Стандартная ошибка (SE) для разности пропорций при $H_0$:\n",
        "\n",
        "   $$\n",
        "   SE\n",
        "   \\;=\\;\n",
        "   \\sqrt{\\,\n",
        "     \\hat p\\,(1 - \\hat p)\\,\\Bigl(\\frac{1}{n_\\text{new}} + \\frac{1}{n_\\text{old}}\\Bigr)\n",
        "   \\;}\n",
        "   $$\n",
        "\n",
        "3. Z-статистика:\n",
        "\n",
        "   $$\n",
        "   Z\n",
        "   \\;=\\;\n",
        "   \\frac{\n",
        "     \\bigl(\\,\\frac{\\text{conv_new}}{\\,n_\\text{new}\\,}\\bigr)\n",
        "     \\;-\\;\n",
        "     \\bigl(\\,\\frac{\\text{conv_old}}{\\,n_\\text{old}\\,}\\bigr)\n",
        "   }{\\,SE\\,}\n",
        "   $$\n",
        "\n",
        "4. p-value при односторонней альтернативе $H_1: p_\\text{new} > p_\\text{old}$:\n",
        "\n",
        "   $$\n",
        "   p\\_value\n",
        "   \\;=\\;\n",
        "   1 \\;-\\; \\Phi\\bigl(Z\\bigr),\n",
        "   $$\n",
        "\n",
        "   где $\\Phi(\\cdot)$ — функция стандартного нормального распределения."
      ],
      "metadata": {
        "id": "BLdfV2FYGBX7"
      }
    },
    {
      "cell_type": "markdown",
      "source": [],
      "metadata": {
        "id": "POSqCE01L-ga"
      }
    },
    {
      "cell_type": "code",
      "source": [
        "import statsmodels.api as sm\n",
        "\n",
        "count = np.array([conv_new, conv_old])\n",
        "nobs  = np.array([n_new, n_old])\n",
        "\n",
        "# Односторонний z-тест (H1: p_new > p_old)\n",
        "z_stat, pval_one_sided = sm.stats.proportions_ztest(count, nobs, alternative = 'larger')\n",
        "\n",
        "print(f\"Z-статистика = {z_stat:.3f}\")\n",
        "print(f\"Односторонний p-value = {pval_one_sided:.4f}\")"
      ],
      "metadata": {
        "colab": {
          "base_uri": "https://localhost:8080/"
        },
        "id": "OuzgOxwhQkX1",
        "outputId": "cc02f99c-85df-4859-c0b3-3fcf0bd8f864"
      },
      "execution_count": null,
      "outputs": [
        {
          "output_type": "stream",
          "name": "stdout",
          "text": [
            "Z-статистика = -1.311\n",
            "Односторонний p-value = 0.9051\n"
          ]
        }
      ]
    },
    {
      "cell_type": "code",
      "source": [
        "import numpy as np\n",
        "from scipy.stats import norm\n",
        "\n",
        "p_new = conv_new / n_new\n",
        "p_old = conv_old / n_old\n",
        "delta_hat = p_new - p_old\n",
        "\n",
        "# pooled-пропорция и стандартная ошибка для разности:\n",
        "p_pooled = (conv_new + conv_old) / (n_new + n_old)\n",
        "se = np.sqrt(p_pooled * (1 - p_pooled) * (1/n_new + 1/n_old))\n",
        "\n",
        "# уровень доверия и соответствующий z-квантиль:\n",
        "alpha = 0.05\n",
        "z_quantile = abs(norm.ppf(alpha/2))\n",
        "\n",
        "# доверительный интервал для разности пропорций:\n",
        "ci_lower = delta_hat - z_quantile * se\n",
        "ci_upper = delta_hat + z_quantile * se\n",
        "\n",
        "print(f\"p_new = {p_new:.6f}, p_old = {p_old:.6f}\")\n",
        "print(f\"Наблюдаемая разность (delta_hat) = {delta_hat:.6f}\")\n",
        "print(f\"Стандартная ошибка (SE) = {se:.6f}\")\n",
        "print(f\"95% доверительный интервал для (p_new - p_old):\")\n",
        "print(f\"[{ci_lower:.6f}, {ci_upper:.6f}]\")"
      ],
      "metadata": {
        "colab": {
          "base_uri": "https://localhost:8080/"
        },
        "id": "MRGthBy2Fu5i",
        "outputId": "b52c7bf0-8afa-4c3e-e609-9bd84d101074"
      },
      "execution_count": null,
      "outputs": [
        {
          "output_type": "stream",
          "name": "stdout",
          "text": [
            "p_new = 0.118808, p_old = 0.120386\n",
            "Наблюдаемая разность (delta_hat) = -0.001578\n",
            "Стандартная ошибка (SE) = 0.001204\n",
            "95% доверительный интервал для (p_new - p_old):\n",
            "[-0.003938, 0.000781]\n"
          ]
        }
      ]
    },
    {
      "cell_type": "code",
      "source": [
        "plt.figure(figsize=(8, 4))\n",
        "plt.errorbar(0, delta_hat, yerr=z_quantile * se, fmt='o', color='blue', capsize=10)\n",
        "plt.axhline(0, color='gray', linestyle='--', linewidth=1)\n",
        "plt.xlim(-1, 1)\n",
        "plt.xticks([])\n",
        "plt.ylabel('Разность конверсий (p_new - p_old)')\n",
        "plt.title('Точка оценки разности и 95% доверительный интервал')\n",
        "\n",
        "plt.text(0.05, delta_hat, f'{delta_hat:.4f}', va='center', ha='left')\n",
        "plt.text(0.05, ci_upper, f'{ci_upper:.4f}', va='bottom', ha='left', color='green')\n",
        "plt.text(0.05, ci_lower, f'{ci_lower:.4f}', va='top', ha='left', color='red')\n",
        "\n",
        "plt.show()"
      ],
      "metadata": {
        "colab": {
          "base_uri": "https://localhost:8080/",
          "height": 367
        },
        "id": "MXGn6xhLPM5G",
        "outputId": "e8befb24-98d4-4771-93ed-80af0eb124f2"
      },
      "execution_count": null,
      "outputs": [
        {
          "output_type": "display_data",
          "data": {
            "text/plain": [
              "<Figure size 800x400 with 1 Axes>"
            ],
            "image/png": "[encoded data removed]"
          },
          "metadata": {}
        }
      ]
    },
    {
      "cell_type": "markdown",
      "source": [
        "Мы не отвергаем нулевую гипотезу, так как p_value > alpha (alpha = 0.05)\n",
        "\n",
        "Нет доказательств, что новая лучше старой."
      ],
      "metadata": {
        "id": "yS9ZNysMITxI"
      }
    },
    {
      "cell_type": "code",
      "source": [
        "import numpy as np\n",
        "from statsmodels.stats.power import GofChisquarePower, NormalIndPower\n",
        "\n",
        "alpha = 0.05         # уровень значимости\n",
        "power_desired = 0.8  # желаемая мощность (80%)\n",
        "p0 = (conv_new + conv_old) / (n_new + n_old)  # приближённая baseline prop.\n",
        "n1 = n_new\n",
        "n2 = n_old\n",
        "\n",
        "analysis = NormalIndPower()\n",
        "ratio = n2 / n1\n",
        "effect_size = analysis.solve_power(\n",
        "    effect_size=None,\n",
        "    nobs1=n1,\n",
        "    alpha=alpha,\n",
        "    power=power_desired,\n",
        "    ratio=ratio,\n",
        "    alternative='two-sided'\n",
        ")\n",
        "\n",
        "from math import sin, asin\n",
        "\n",
        "h = effect_size\n",
        "p_old = p0\n",
        "asin_old = asin(np.sqrt(p_old))\n",
        "p_new_approx = np.sin((h/2) + asin_old) ** 2\n",
        "mde_approx = p_new_approx - p_old\n",
        "\n",
        "print(f\"Baseline пропорция (p0) = {p0:.4f}\")\n",
        "print(f\"Минимально обнаруживаемый эффект (MDE) ≈ {mde_approx:.4%}\")\n",
        "print(f\"Cohen's h = {h:.4f}\")"
      ],
      "metadata": {
        "colab": {
          "base_uri": "https://localhost:8080/"
        },
        "id": "ciQtWStKQVmD",
        "outputId": "182843fb-d2ac-422a-ab08-9457a780863e"
      },
      "execution_count": null,
      "outputs": [
        {
          "output_type": "stream",
          "name": "stdout",
          "text": [
            "Baseline пропорция (p0) = 0.1196\n",
            "Минимально обнаруживаемый эффект (MDE) ≈ 0.3393%\n",
            "Cohen's h = 0.0104\n"
          ]
        }
      ]
    },
    {
      "cell_type": "markdown",
      "source": [
        "Интерпретация:\n",
        "\n",
        "Baseline 11.96%: средняя конверсия в обеих группах (точка опоры).\n",
        "\n",
        "MDE ≈ 0.34%: лишь такие или более значимые изменения (рост или падение конверсии минимум на 0.34 процентных пункта) тест с мощностью 80% гарантированно обнаружит. Любые эффекты слабее 0.34% будут скрыты статистическим шумом.\n",
        "\n",
        "Cohen’s h = 0.0104: размер эффекта очень мал. Такое значение h говорит, что ожидаемые изменения между old и new настолько невелики, что считаются «микроэффектом» с точки зрения классических порогов (где обычно h≈0.20 уже считается «маленьким» эффектом)"
      ],
      "metadata": {
        "id": "zSnwgfkgRA9v"
      }
    },
    {
      "cell_type": "code",
      "source": [
        "import pandas as pd\n",
        "import matplotlib.pyplot as plt\n",
        "\n",
        "df2['date'] = pd.to_datetime(df2['timestamp']).dt.date\n",
        "\n",
        "daily = df2.groupby(['date', 'landing_page'])['converted']\\\n",
        "          .agg(['sum','count'])\\\n",
        "          .reset_index()\n",
        "\n",
        "daily['rate'] = daily['sum'] / daily['count']\n",
        "\n",
        "daily_pivot = daily.pivot(index='date', columns='landing_page', values='rate')\n",
        "\n",
        "daily_pivot.plot(figsize=(10,5), marker='o')\n",
        "plt.ylabel('Дневная конверсия')\n",
        "plt.title('Динамика конверсии по дням: new_page против old_page')\n",
        "plt.show()"
      ],
      "metadata": {
        "colab": {
          "base_uri": "https://localhost:8080/",
          "height": 411
        },
        "id": "G6t1uKsoR5-3",
        "outputId": "c2f099fa-532e-4b0b-84c6-6102f01ce4ec"
      },
      "execution_count": null,
      "outputs": [
        {
          "output_type": "display_data",
          "data": {
            "text/plain": [
              "<Figure size 1000x500 with 1 Axes>"
            ],
            "image/png": "[encoded data removed]"
          },
          "metadata": {}
        }
      ]
    },
    {
      "cell_type": "markdown",
      "source": [
        "Значимого эффекта в конверсии не замечено. Однако в реальности могут быть более глубинные различия, которые могут помочь принять решение. Например, время на странице, глубина просмотра. В датасете нет этих данных, однако если бы мы ими располагали, то могли бы более качественно провести A/B тестирование в плане нахождения эффекта."
      ],
      "metadata": {
        "id": "NBmRPs5gSajc"
      }
    },
    {
      "cell_type": "markdown",
      "source": [
        "## Выводы\n",
        "\n",
        "1. Краткое резюме результатов  \n",
        "   - В контрольной группе (контент A) конверсия составила 12.04 %.  \n",
        "   - В тестовой группе (контент B) конверсия составила 11.88 %.  \n",
        "   - Z-статистика равна -1.311, а p-значение равно 0.9051 (p ≥ 0.05).\n",
        "\n",
        "2. Статистическая интерпретация  \n",
        "   - Поскольку p ≥ 0.05, мы не можем отвергнуть нулевую гипотезу (H₀: конверсии в обеих группах равны).  \n",
        "   - Это означает, что разница в конверсиях между контрольной и тестовой группами статистически незначима и может быть объяснена случайными колебаниями.\n",
        "\n",
        "3. Практическая значимость  \n",
        "   - Разница (11.88 % − 12.04 %) = -0.16 % слишком мала (или недостаточно доказана), чтобы с уверенностью утверждать о её реальной пользе.  \n",
        "   - До дополнительного тестирования внедрять изменения, основанные на этих данных, нецелесообразно: эффект может не сохраниться на более широком трафике.\n",
        "\n",
        "4. Ограничения и рекомендации по дальнейшим действиям  \n",
        "   - Возможно, размер выборки недостаточен для обнаружения небольших, но всё же существующих изменений в конверсии.  \n",
        "   - Стоит проверить отсутствие смещений при распределении пользователей (например, по времени или устройствам).  \n",
        "   - Рекомендуется провести повторный эксперимент с большей выборкой или протестировать изменения на других сегментах аудитории (география, каналы трафика, устройства).\n",
        "\n",
        "5. Рекомендации  \n",
        "   - Магазину не переходить на новую веб-страницу, остаться на старой  \n",
        "   - Снова запустить A/B-тест, собрав дополнительные данные"
      ],
      "metadata": {
        "id": "mQlQN-9fd19O"
      }
    }
  ],
  "metadata": {
    "kernelspec": {
      "display_name": "Python 3",
      "language": "python",
      "name": "python3"
    },
    "language_info": {
      "codemirror_mode": {
        "name": "ipython",
        "version": 3
      },
      "file_extension": ".py",
      "mimetype": "text/x-python",
      "name": "python",
      "nbconvert_exporter": "python",
      "pygments_lexer": "ipython3",
      "version": "3.6.3"
    },
    "colab": {
      "provenance": []
    }
  },
  "nbformat": 4,
  "nbformat_minor": 0
}